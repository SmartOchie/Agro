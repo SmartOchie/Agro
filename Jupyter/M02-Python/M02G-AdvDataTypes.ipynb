{
  "cells": [
    {
      "cell_type": "markdown",
      "metadata": {
        "id": "pOrSBEmKBmxF"
      },
      "source": [
        "![Cloud-First](https://github.com/tulip-lab/sit742/blob/develop/Jupyter/image/CloudFirst.png?raw=1)\n",
        "\n",
        "\n",
        "\n",
        "# SIT742: Modern Data Science\n",
        "**(Module: Python Foundations for Big Data)**\n",
        "\n",
        "---\n",
        "- Materials in this module include resources collected from various open-source online repositories.\n",
        "- You are free to use, change and distribute this package.\n",
        "- If you found any issue/bug for this document, please submit an issue at [tulip-lab/sit742](https://github.com/tulip-lab/sit742/issues)\n",
        "\n",
        "\n",
        "Prepared by **SIT742 Teaching Team**\n",
        "\n",
        "---\n",
        "\n",
        "\n",
        "## Session 2G: Advanced Data Types\n",
        "\n",
        "we will learn about advanced data types in addition to the strings and number learnt before. We will examine lists, tuples and dictionaries used for a collection of related data."
      ]
    },
    {
      "cell_type": "markdown",
      "metadata": {
        "id": "8rxG_XNwBmxI"
      },
      "source": [
        "## Table of Content\n",
        "\n",
        "\n",
        "1 [List](#cell_list)\n",
        "\n",
        "2 [Tuple](#cell_tuple)\n",
        "\n",
        "3 [Dictionary](#cell_dict)\n",
        "\n"
      ]
    },
    {
      "cell_type": "markdown",
      "metadata": {
        "id": "4Xu7rvCrBmyp"
      },
      "source": [
        "<a id = \"cell_list\"></a>"
      ]
    },
    {
      "cell_type": "markdown",
      "metadata": {
        "id": "ZXxkKq8eBmyq"
      },
      "source": [
        "\n",
        "## 1 List\n",
        "\n",
        "**List is a sequence**\n",
        "\n",
        "Like a string, a **list** is a sequence of values. The values in a list can be any type. We call the values **items** of the list. To create a list, enclose the items in square brackets.\n",
        "\n",
        "For example,\n",
        "               "
      ]
    },
    {
      "cell_type": "code",
      "execution_count": 1,
      "metadata": {
        "id": "E7e8UuwGBmyq"
      },
      "outputs": [],
      "source": [
        "shoplist = ['apple', 'mango', 'carrot', 'banana']\n",
        "l = [10, 20, 30, 40]\n",
        "empty = [ ]   # Initialize an empty list"
      ]
    },
    {
      "cell_type": "code",
      "execution_count": 2,
      "metadata": {
        "id": "aY2iD5kNBmys",
        "colab": {
          "base_uri": "https://localhost:8080/"
        },
        "outputId": "8d538433-9b76-45bb-8577-5f77207071b0"
      },
      "outputs": [
        {
          "output_type": "execute_result",
          "data": {
            "text/plain": [
              "['apple', 'mango', 'carrot', 'banana']"
            ]
          },
          "metadata": {},
          "execution_count": 2
        }
      ],
      "source": [
        "shoplist"
      ]
    },
    {
      "cell_type": "code",
      "execution_count": 3,
      "metadata": {
        "id": "KE779JH2Bmyu",
        "colab": {
          "base_uri": "https://localhost:8080/"
        },
        "outputId": "fe85925f-4345-4a74-9004-1e45f51cec1e"
      },
      "outputs": [
        {
          "output_type": "execute_result",
          "data": {
            "text/plain": [
              "[10, 20, 30, 40]"
            ]
          },
          "metadata": {},
          "execution_count": 3
        }
      ],
      "source": [
        "l"
      ]
    },
    {
      "cell_type": "code",
      "execution_count": 4,
      "metadata": {
        "id": "_IpjFmd4Bmyx",
        "colab": {
          "base_uri": "https://localhost:8080/"
        },
        "outputId": "6fd79b4d-30f8-4fc9-c2a2-57a8eadd20b0"
      },
      "outputs": [
        {
          "output_type": "execute_result",
          "data": {
            "text/plain": [
              "[]"
            ]
          },
          "metadata": {},
          "execution_count": 4
        }
      ],
      "source": [
        "empty"
      ]
    },
    {
      "cell_type": "code",
      "execution_count": 5,
      "metadata": {
        "id": "XBrjhj1iBmyz",
        "colab": {
          "base_uri": "https://localhost:8080/"
        },
        "outputId": "ef906b94-006b-4699-e55e-6a0c8e70cab6"
      },
      "outputs": [
        {
          "output_type": "execute_result",
          "data": {
            "text/plain": [
              "['apple', 'mango', 'carrot', 'banana']"
            ]
          },
          "metadata": {},
          "execution_count": 5
        }
      ],
      "source": [
        "shoplist"
      ]
    },
    {
      "cell_type": "markdown",
      "metadata": {
        "id": "j7ruHjt3Bmy0"
      },
      "source": [
        "The elements of a list do not have to be the same type. An another list can also be nested inside a list.\n",
        "\n",
        "To access the element of a list, use the bracket operator to obtain the value available at the index. Note that the indices of list start at $0$. You can also use negative value as index, if you counts from right. For example, the negative index of last item is $-1$. Try the following examples:"
      ]
    },
    {
      "cell_type": "code",
      "execution_count": 6,
      "metadata": {
        "id": "W9akILf7Bmy1"
      },
      "outputs": [],
      "source": [
        "l = [10, 20, 30, 40]"
      ]
    },
    {
      "cell_type": "code",
      "execution_count": 7,
      "metadata": {
        "id": "Z5zPJWxpBmy3",
        "colab": {
          "base_uri": "https://localhost:8080/"
        },
        "outputId": "b191a078-d1cb-4180-853d-bc20d527d3e2"
      },
      "outputs": [
        {
          "output_type": "execute_result",
          "data": {
            "text/plain": [
              "30"
            ]
          },
          "metadata": {},
          "execution_count": 7
        }
      ],
      "source": [
        "l[2]"
      ]
    },
    {
      "cell_type": "code",
      "execution_count": 8,
      "metadata": {
        "id": "bNH-O27pBmy4",
        "colab": {
          "base_uri": "https://localhost:8080/"
        },
        "outputId": "8e7eba53-fb20-463e-bc0c-128acb4aaab9"
      },
      "outputs": [
        {
          "output_type": "execute_result",
          "data": {
            "text/plain": [
              "40"
            ]
          },
          "metadata": {},
          "execution_count": 8
        }
      ],
      "source": [
        "l[-1]"
      ]
    },
    {
      "cell_type": "code",
      "execution_count": 9,
      "metadata": {
        "id": "NtKexic5Bmy7",
        "colab": {
          "base_uri": "https://localhost:8080/"
        },
        "outputId": "6ff8e27d-d9e6-4387-be91-ddf0e830c7f0"
      },
      "outputs": [
        {
          "output_type": "execute_result",
          "data": {
            "text/plain": [
              "20"
            ]
          },
          "metadata": {},
          "execution_count": 9
        }
      ],
      "source": [
        "l[-3]"
      ]
    },
    {
      "cell_type": "markdown",
      "metadata": {
        "id": "Wpr1v6zrBmy9"
      },
      "source": [
        "Here is an example of nested list:"
      ]
    },
    {
      "cell_type": "code",
      "execution_count": 10,
      "metadata": {
        "id": "r0xGwqeJBmy-"
      },
      "outputs": [],
      "source": [
        "l = ['apple', 2.0, 5, [10, 20]]"
      ]
    },
    {
      "cell_type": "code",
      "execution_count": 11,
      "metadata": {
        "id": "SP-ntHwtBmy_",
        "colab": {
          "base_uri": "https://localhost:8080/"
        },
        "outputId": "59a7c200-1793-4d00-d136-f5acd6c7620f"
      },
      "outputs": [
        {
          "output_type": "execute_result",
          "data": {
            "text/plain": [
              "2.0"
            ]
          },
          "metadata": {},
          "execution_count": 11
        }
      ],
      "source": [
        "l[1]"
      ]
    },
    {
      "cell_type": "code",
      "execution_count": 12,
      "metadata": {
        "id": "WQsbJkhABmzC",
        "colab": {
          "base_uri": "https://localhost:8080/"
        },
        "outputId": "b67cceff-a542-41c4-95d4-bd17a85a446d"
      },
      "outputs": [
        {
          "output_type": "execute_result",
          "data": {
            "text/plain": [
              "[10, 20]"
            ]
          },
          "metadata": {},
          "execution_count": 12
        }
      ],
      "source": [
        "l[3]"
      ]
    },
    {
      "cell_type": "code",
      "execution_count": 13,
      "metadata": {
        "id": "qDryScoCBmzD",
        "colab": {
          "base_uri": "https://localhost:8080/"
        },
        "outputId": "bb9f9000-4dd4-41ba-e30a-55a0bb23aa21"
      },
      "outputs": [
        {
          "output_type": "execute_result",
          "data": {
            "text/plain": [
              "20"
            ]
          },
          "metadata": {},
          "execution_count": 13
        }
      ],
      "source": [
        "l[3][1]\n"
      ]
    },
    {
      "cell_type": "markdown",
      "metadata": {
        "id": "z-zzr7ICBmzF"
      },
      "source": [
        "Unlike strings, lists are mutable, which means they can be altered. We use bracket on the left side of an assignment to assign a value to a list item."
      ]
    },
    {
      "cell_type": "code",
      "execution_count": 14,
      "metadata": {
        "id": "rX_ghZH_BmzF"
      },
      "outputs": [],
      "source": [
        "l = [10, 20, 30, 40]\n",
        "l[1] = 200"
      ]
    },
    {
      "cell_type": "code",
      "execution_count": 15,
      "metadata": {
        "id": "WaAO_Ir2BmzH",
        "colab": {
          "base_uri": "https://localhost:8080/"
        },
        "outputId": "91cb079c-3a81-4b06-b56e-eb385db095cf"
      },
      "outputs": [
        {
          "output_type": "execute_result",
          "data": {
            "text/plain": [
              "[10, 200, 30, 40]"
            ]
          },
          "metadata": {},
          "execution_count": 15
        }
      ],
      "source": [
        "l"
      ]
    },
    {
      "cell_type": "markdown",
      "metadata": {
        "id": "bu8DphbXBmzI"
      },
      "source": [
        "**List operation**\n",
        "\n",
        " **In** is used to perform membership operation.\n",
        " The result of expression equals to **True** if a value exists in the list,\n",
        " and equals to **False** otherwise.\n"
      ]
    },
    {
      "cell_type": "code",
      "execution_count": 16,
      "metadata": {
        "id": "XbCUkFPFBmzJ"
      },
      "outputs": [],
      "source": [
        "shoplist = ['apple', 'mango', 'carrot', 'banana']"
      ]
    },
    {
      "cell_type": "code",
      "execution_count": 17,
      "metadata": {
        "id": "FLXYQQo9BmzK",
        "colab": {
          "base_uri": "https://localhost:8080/"
        },
        "outputId": "975134ac-1812-4cc8-f403-598cb978ebd1"
      },
      "outputs": [
        {
          "output_type": "execute_result",
          "data": {
            "text/plain": [
              "True"
            ]
          },
          "metadata": {},
          "execution_count": 17
        }
      ],
      "source": [
        "'apple' in shoplist"
      ]
    },
    {
      "cell_type": "code",
      "execution_count": 18,
      "metadata": {
        "id": "IjdYHK1bBmzN",
        "colab": {
          "base_uri": "https://localhost:8080/"
        },
        "outputId": "5067a06a-5238-4caa-b7a5-d72991cf8e63"
      },
      "outputs": [
        {
          "output_type": "execute_result",
          "data": {
            "text/plain": [
              "False"
            ]
          },
          "metadata": {},
          "execution_count": 18
        }
      ],
      "source": [
        "'rice' in shoplist"
      ]
    },
    {
      "cell_type": "markdown",
      "metadata": {
        "id": "UNLrFdonBmzO"
      },
      "source": [
        "Similarly, **In** operator also applies to **string** type. Here are some examples:\n"
      ]
    },
    {
      "cell_type": "code",
      "execution_count": 19,
      "metadata": {
        "id": "GsfGjlPyBmzP",
        "colab": {
          "base_uri": "https://localhost:8080/"
        },
        "outputId": "37cbfa4b-87de-40f1-846e-a3d596d15cac"
      },
      "outputs": [
        {
          "output_type": "execute_result",
          "data": {
            "text/plain": [
              "True"
            ]
          },
          "metadata": {},
          "execution_count": 19
        }
      ],
      "source": [
        "'a' in 'banana'"
      ]
    },
    {
      "cell_type": "code",
      "execution_count": 20,
      "metadata": {
        "id": "GBe4RSgOBmzQ",
        "colab": {
          "base_uri": "https://localhost:8080/"
        },
        "outputId": "52c01088-783d-497e-a569-0bf3e68b9b41"
      },
      "outputs": [
        {
          "output_type": "execute_result",
          "data": {
            "text/plain": [
              "False"
            ]
          },
          "metadata": {},
          "execution_count": 20
        }
      ],
      "source": [
        "'seed' in 'banana'    # Test if 'seed' is a substring of 'banana'"
      ]
    },
    {
      "cell_type": "markdown",
      "metadata": {
        "id": "HhQjXO2lBmzR"
      },
      "source": [
        "'**+**' is  used for concatenation operation"
      ]
    },
    {
      "cell_type": "code",
      "execution_count": 21,
      "metadata": {
        "id": "X6RqwGxQBmzT",
        "colab": {
          "base_uri": "https://localhost:8080/"
        },
        "outputId": "6a55778b-6abc-417c-d6ad-a3827c94f8be"
      },
      "outputs": [
        {
          "output_type": "execute_result",
          "data": {
            "text/plain": [
              "[10, 20, 30, 40, 50, 60]"
            ]
          },
          "metadata": {},
          "execution_count": 21
        }
      ],
      "source": [
        "[10, 20, 30, 40 ] + [50, 60]"
      ]
    },
    {
      "cell_type": "markdown",
      "metadata": {
        "id": "jmXC2N59oqfz"
      },
      "source": [
        "'**\\***' is used for to repeat the elements in a list a given number of times."
      ]
    },
    {
      "cell_type": "markdown",
      "metadata": {
        "id": "F6tP9GVhBmzU"
      },
      "source": [
        " [50, 60]*3\n",
        "\n",
        "     "
      ]
    },
    {
      "cell_type": "markdown",
      "metadata": {
        "id": "Nw0vR9K_BmzV"
      },
      "source": [
        "** List slices **\n",
        "Slicing operation allows to retrieve a slice of of the list. i.e. a part of the sequence. The sliding operation uses square brackets to enclose an optional pair of numbers separated by a colon. Again, to count the position of items from left(first item), start from $0$. If you count the position from right(last item), start from $-1$."
      ]
    },
    {
      "cell_type": "code",
      "execution_count": 22,
      "metadata": {
        "id": "GqB8ElRVBmzV"
      },
      "outputs": [],
      "source": [
        "l = [1, 2, 3, 4]"
      ]
    },
    {
      "cell_type": "code",
      "execution_count": 23,
      "metadata": {
        "id": "qnnI1lXSBmzW",
        "colab": {
          "base_uri": "https://localhost:8080/"
        },
        "outputId": "a80f194e-972e-49a2-a5be-f2e97fc28f2f"
      },
      "outputs": [
        {
          "output_type": "execute_result",
          "data": {
            "text/plain": [
              "[2, 3]"
            ]
          },
          "metadata": {},
          "execution_count": 23
        }
      ],
      "source": [
        "l[1:3]     # From position 1 to position 3 (excluded)"
      ]
    },
    {
      "cell_type": "code",
      "execution_count": 24,
      "metadata": {
        "id": "T1T4ljvqBmzY",
        "colab": {
          "base_uri": "https://localhost:8080/"
        },
        "outputId": "6ff2a0e2-7b9b-4cda-d73c-11b5cc605596"
      },
      "outputs": [
        {
          "output_type": "execute_result",
          "data": {
            "text/plain": [
              "[1, 2]"
            ]
          },
          "metadata": {},
          "execution_count": 24
        }
      ],
      "source": [
        "l[:2]     # From the beginning to position 2 (excluded)"
      ]
    },
    {
      "cell_type": "code",
      "execution_count": 25,
      "metadata": {
        "id": "039r1EDMBmza",
        "colab": {
          "base_uri": "https://localhost:8080/"
        },
        "outputId": "7cad4c3d-1fe4-4ddd-f255-2360ed732c66"
      },
      "outputs": [
        {
          "output_type": "execute_result",
          "data": {
            "text/plain": [
              "[3, 4]"
            ]
          },
          "metadata": {},
          "execution_count": 25
        }
      ],
      "source": [
        "l[-2:]    # From the second right to the end of the list"
      ]
    },
    {
      "cell_type": "markdown",
      "metadata": {
        "id": "x9vjy8R6Bmzb"
      },
      "source": [
        "If you omit both the first and the second indices, the slice is a copy of the whole list."
      ]
    },
    {
      "cell_type": "code",
      "execution_count": 26,
      "metadata": {
        "id": "e6U4CrvhBmzc",
        "colab": {
          "base_uri": "https://localhost:8080/"
        },
        "outputId": "d8070a69-e030-44b9-c76b-9ae74a602a6f"
      },
      "outputs": [
        {
          "output_type": "execute_result",
          "data": {
            "text/plain": [
              "[1, 2, 3, 4]"
            ]
          },
          "metadata": {},
          "execution_count": 26
        }
      ],
      "source": [
        "l[:]"
      ]
    },
    {
      "cell_type": "markdown",
      "metadata": {
        "id": "0wMQJlYIBmzf"
      },
      "source": [
        "Since lists are mutable, above expression is often useful to make a copy before modifying original list."
      ]
    },
    {
      "cell_type": "code",
      "execution_count": 27,
      "metadata": {
        "id": "BA5iYESzBmzh"
      },
      "outputs": [],
      "source": [
        "l = [1, 2, 3, 4]\n",
        "l_org = l[:]\n",
        "l[0] = 8"
      ]
    },
    {
      "cell_type": "code",
      "execution_count": 28,
      "metadata": {
        "id": "qTMISAbJBmzn",
        "colab": {
          "base_uri": "https://localhost:8080/"
        },
        "outputId": "210cbcc6-a7c2-47ab-9d5f-377484b50e5c"
      },
      "outputs": [
        {
          "output_type": "execute_result",
          "data": {
            "text/plain": [
              "[8, 2, 3, 4]"
            ]
          },
          "metadata": {},
          "execution_count": 28
        }
      ],
      "source": [
        "l"
      ]
    },
    {
      "cell_type": "code",
      "execution_count": 29,
      "metadata": {
        "id": "Smf9tzSSBmzp",
        "colab": {
          "base_uri": "https://localhost:8080/"
        },
        "outputId": "0459af2d-93f3-420e-fcd4-f5f52ab8fb82"
      },
      "outputs": [
        {
          "output_type": "execute_result",
          "data": {
            "text/plain": [
              "[1, 2, 3, 4]"
            ]
          },
          "metadata": {},
          "execution_count": 29
        }
      ],
      "source": [
        "l_org  # the original list is unchanged\n"
      ]
    },
    {
      "cell_type": "markdown",
      "metadata": {
        "id": "2h-9tDg3Bmzq"
      },
      "source": [
        "**List methods**\n",
        "\n",
        "The methods most often applied to a list include:\n",
        "- append()\n",
        "- len()\n",
        "- sort()\n",
        "- split()\n",
        "- join()"
      ]
    },
    {
      "cell_type": "markdown",
      "metadata": {
        "id": "qxDlX5huBmzr"
      },
      "source": [
        "**append()** method adds a new element to the end of a list."
      ]
    },
    {
      "cell_type": "code",
      "execution_count": 30,
      "metadata": {
        "id": "UUs8PmOiBmzs"
      },
      "outputs": [],
      "source": [
        "l= [1, 2, 3, 4]\n"
      ]
    },
    {
      "cell_type": "code",
      "execution_count": 31,
      "metadata": {
        "id": "sr7rr13xBmzt",
        "colab": {
          "base_uri": "https://localhost:8080/"
        },
        "outputId": "065a5ca5-ce7f-4489-b6a0-c89da60551d7"
      },
      "outputs": [
        {
          "output_type": "execute_result",
          "data": {
            "text/plain": [
              "[1, 2, 3, 4]"
            ]
          },
          "metadata": {},
          "execution_count": 31
        }
      ],
      "source": [
        "l"
      ]
    },
    {
      "cell_type": "code",
      "execution_count": 32,
      "metadata": {
        "id": "3BhyF427Bmzy"
      },
      "outputs": [],
      "source": [
        "l.append(5)\n",
        "l.append([6, 7])  #list [6, 7] is nested in list l"
      ]
    },
    {
      "cell_type": "code",
      "execution_count": 33,
      "metadata": {
        "id": "kHh85_Y6Bmzz",
        "colab": {
          "base_uri": "https://localhost:8080/"
        },
        "outputId": "069367b0-406f-4622-943b-20b1afa25edd"
      },
      "outputs": [
        {
          "output_type": "execute_result",
          "data": {
            "text/plain": [
              "[1, 2, 3, 4, 5, [6, 7]]"
            ]
          },
          "metadata": {},
          "execution_count": 33
        }
      ],
      "source": [
        "l"
      ]
    },
    {
      "cell_type": "markdown",
      "metadata": {
        "id": "XiLgDfWwBmz1"
      },
      "source": [
        " **len()** method returns the number of items of a list."
      ]
    },
    {
      "cell_type": "code",
      "execution_count": 34,
      "metadata": {
        "id": "5wRXT4WcBmz1",
        "colab": {
          "base_uri": "https://localhost:8080/"
        },
        "outputId": "62d7ab65-0a49-4c51-c5ff-3321363ef862"
      },
      "outputs": [
        {
          "output_type": "execute_result",
          "data": {
            "text/plain": [
              "5"
            ]
          },
          "metadata": {},
          "execution_count": 34
        }
      ],
      "source": [
        "l = [1, 2, 3, 4, 5]\n",
        "len(l)"
      ]
    },
    {
      "cell_type": "code",
      "execution_count": 35,
      "metadata": {
        "id": "LhWFPL_zBmz2",
        "colab": {
          "base_uri": "https://localhost:8080/"
        },
        "outputId": "196ce5d9-bad4-4568-98d8-e9221bf3126f"
      },
      "outputs": [
        {
          "output_type": "execute_result",
          "data": {
            "text/plain": [
              "6"
            ]
          },
          "metadata": {},
          "execution_count": 35
        }
      ],
      "source": [
        "# A list nested in another list is counted as a single item\n",
        "l = [1, 2, 3, 4, 5, [6, 7]]\n",
        "len(l)"
      ]
    },
    {
      "cell_type": "markdown",
      "metadata": {
        "id": "xvuQnOPRBmz3"
      },
      "source": [
        " **sort()** arranges the elements of the list from low to high."
      ]
    },
    {
      "cell_type": "code",
      "execution_count": 36,
      "metadata": {
        "id": "v2Me8qqfBmz4"
      },
      "outputs": [],
      "source": [
        "shoplist = ['apple', 'mango', 'carrot', 'banana']\n",
        "shoplist.sort()"
      ]
    },
    {
      "cell_type": "code",
      "execution_count": 37,
      "metadata": {
        "id": "wNW-D9ifBmz6",
        "colab": {
          "base_uri": "https://localhost:8080/"
        },
        "outputId": "8c5ce6da-39db-42e8-bdae-5ded28df374b"
      },
      "outputs": [
        {
          "output_type": "execute_result",
          "data": {
            "text/plain": [
              "['apple', 'banana', 'carrot', 'mango']"
            ]
          },
          "metadata": {},
          "execution_count": 37
        }
      ],
      "source": [
        "shoplist"
      ]
    },
    {
      "cell_type": "markdown",
      "metadata": {
        "id": "YIPqgrbDBmz8"
      },
      "source": [
        "\n",
        " It is worth noted that **sort()** method modifies the list in place, and does not return any value. Please try the following:"
      ]
    },
    {
      "cell_type": "code",
      "execution_count": 38,
      "metadata": {
        "id": "JauCHCv_Bmz8"
      },
      "outputs": [],
      "source": [
        "shoplist = ['apple', 'mango', 'carrot', 'banana']\n",
        "shoplist_sorted = shoplist.sort()"
      ]
    },
    {
      "cell_type": "code",
      "execution_count": 39,
      "metadata": {
        "id": "k1eeAAaxBmz_"
      },
      "outputs": [],
      "source": [
        "shoplist_sorted    # No value is returned"
      ]
    },
    {
      "cell_type": "markdown",
      "metadata": {
        "id": "IxkXo9AZBm0A"
      },
      "source": [
        "\n",
        "There is an alternative way of sorting a list. The build-in function **sorted()** returns a sorted list, and keeps the original one unchanged."
      ]
    },
    {
      "cell_type": "code",
      "execution_count": 40,
      "metadata": {
        "id": "SiS31NXcBm0A"
      },
      "outputs": [],
      "source": [
        "shoplist = ['apple', 'mango', 'carrot', 'banana']\n",
        "shoplist_sorted = sorted(shoplist)          #sorted() function return a new list"
      ]
    },
    {
      "cell_type": "code",
      "execution_count": 41,
      "metadata": {
        "id": "K_eMR23aBm0F",
        "colab": {
          "base_uri": "https://localhost:8080/"
        },
        "outputId": "3eb52096-2723-40a0-8e9c-f61b26c98f91"
      },
      "outputs": [
        {
          "output_type": "execute_result",
          "data": {
            "text/plain": [
              "['apple', 'banana', 'carrot', 'mango']"
            ]
          },
          "metadata": {},
          "execution_count": 41
        }
      ],
      "source": [
        "shoplist_sorted"
      ]
    },
    {
      "cell_type": "code",
      "execution_count": 42,
      "metadata": {
        "id": "5c1BtFjFBm0G",
        "colab": {
          "base_uri": "https://localhost:8080/"
        },
        "outputId": "65fee8da-6761-4054-b995-01a3918d5c33"
      },
      "outputs": [
        {
          "output_type": "execute_result",
          "data": {
            "text/plain": [
              "['apple', 'mango', 'carrot', 'banana']"
            ]
          },
          "metadata": {},
          "execution_count": 42
        }
      ],
      "source": [
        "shoplist"
      ]
    },
    {
      "cell_type": "markdown",
      "metadata": {
        "id": "gmabEBPqBm0H"
      },
      "source": [
        "There are two frequently-used string methods that convert between lists and strings:\n",
        "\n",
        "First, **split()** methods is used to break a string into words:"
      ]
    },
    {
      "cell_type": "code",
      "execution_count": 43,
      "metadata": {
        "id": "NToLD-lOBm0I",
        "colab": {
          "base_uri": "https://localhost:8080/"
        },
        "outputId": "96c43680-7898-4381-9432-6e5750f48237"
      },
      "outputs": [
        {
          "output_type": "execute_result",
          "data": {
            "text/plain": [
              "['I', 'love', 'apples']"
            ]
          },
          "metadata": {},
          "execution_count": 43
        }
      ],
      "source": [
        "s = 'I love apples'\n",
        "s.split(' ')"
      ]
    },
    {
      "cell_type": "code",
      "execution_count": 44,
      "metadata": {
        "id": "1uH4tlgdBm0J",
        "colab": {
          "base_uri": "https://localhost:8080/"
        },
        "outputId": "e8052635-1fe6-4b0f-94e9-fdd7b8f0bb09"
      },
      "outputs": [
        {
          "output_type": "execute_result",
          "data": {
            "text/plain": [
              "['spam', 'spam', 'spam']"
            ]
          },
          "metadata": {},
          "execution_count": 44
        }
      ],
      "source": [
        "s = 'spam-spam-spam'\n",
        "# A delimiter '-' is specified here. It is used as word boundary\n",
        "s.split('-')"
      ]
    },
    {
      "cell_type": "markdown",
      "metadata": {
        "id": "XUuTMK7tBm0K"
      },
      "source": [
        "Second, **join()** is the inverse of **split**. It takes a list of strings and concatenates the elements."
      ]
    },
    {
      "cell_type": "code",
      "execution_count": 45,
      "metadata": {
        "id": "HKZrUhUzBm0K",
        "colab": {
          "base_uri": "https://localhost:8080/",
          "height": 36
        },
        "outputId": "276a054c-9860-43b0-ee66-8f33bd6631ea"
      },
      "outputs": [
        {
          "output_type": "execute_result",
          "data": {
            "text/plain": [
              "'I love apples'"
            ],
            "application/vnd.google.colaboratory.intrinsic+json": {
              "type": "string"
            }
          },
          "metadata": {},
          "execution_count": 45
        }
      ],
      "source": [
        "l = ['I', 'love', 'apples']\n",
        "s = ' '.join(l)\n",
        "s"
      ]
    },
    {
      "cell_type": "markdown",
      "metadata": {
        "id": "qFbGRFyoBm0M"
      },
      "source": [
        "How it works:\n",
        "\n",
        "Since **join** is a string method, you have to invoke it on the *delimiter*. In this case, the delimiter is a space character. So **' '.join()** puts a space between words. The list **l** is passed to **join()** as parameter.\n",
        "\n",
        "For more information on list methods, type \"help(list)\" in your notebook."
      ]
    },
    {
      "cell_type": "markdown",
      "metadata": {
        "id": "dOaAysQyBm0M"
      },
      "source": [
        "**Traverse a list**\n",
        "\n",
        "The most common way to traverse the items of a list is with a **for** loop. Try the following code:"
      ]
    },
    {
      "cell_type": "code",
      "execution_count": 46,
      "metadata": {
        "id": "2pUz_BuABm0M",
        "colab": {
          "base_uri": "https://localhost:8080/"
        },
        "outputId": "ca0bc891-08c4-4a39-bed7-5ce9b835f9fd"
      },
      "outputs": [
        {
          "output_type": "stream",
          "name": "stdout",
          "text": [
            "apple\n",
            "mango\n",
            "carrot\n",
            "banana\n"
          ]
        }
      ],
      "source": [
        "shoplist = ['apple', 'mango', 'carrot', 'banana']\n",
        "for item in shoplist:\n",
        "    print(item)"
      ]
    },
    {
      "cell_type": "markdown",
      "metadata": {
        "id": "BdoviXGwBm0N"
      },
      "source": [
        "This works well if you only need to read the items of the list. However, you will need to use indices if you want to update the elements. In this case, you need to combine the function **range()** and **len()**.  "
      ]
    },
    {
      "cell_type": "code",
      "execution_count": 47,
      "metadata": {
        "id": "Hw-LhzXhBm0P",
        "colab": {
          "base_uri": "https://localhost:8080/"
        },
        "outputId": "3ab24f9c-d1f9-45be-b06c-741c00f81706"
      },
      "outputs": [
        {
          "output_type": "stream",
          "name": "stdout",
          "text": [
            "[4, 6, 10, 14]\n"
          ]
        }
      ],
      "source": [
        "l = [2, 3, 5, 7]\n",
        "\n",
        "for i in range(len(l)):\n",
        "       l[i] = l[i] * 2\n",
        "\n",
        "print(l)"
      ]
    },
    {
      "cell_type": "markdown",
      "metadata": {
        "id": "6i0u44sWBm0Q"
      },
      "source": [
        "How it works:\n",
        "\n",
        "**len()** returns the number of items in the list, while **range(n)** returns a list from 0 to n - 1. By combining function **len()** and **range()**, **i** gets the index of the next element in each pass through the loop. The assignment statement then uses **i** to perform the operation."
      ]
    },
    {
      "cell_type": "markdown",
      "metadata": {
        "id": "PQIrW0NjBm0Q"
      },
      "source": [
        "<a id = \"cell_tuple\"></a>"
      ]
    },
    {
      "cell_type": "markdown",
      "metadata": {
        "id": "kBsd3dhuBm0Q"
      },
      "source": [
        "### 3.2 Tuple\n",
        "\n",
        "**Tuple are immutable **\n",
        "\n",
        "A **tuple** is also a sequence of values, and can be any type. Tuples and lists are very similar. The important difference is that tuples are immutable, which means they can not be changed.\n",
        "\n",
        "Tuples is typically used to group and organizing data into a single compound value.  For example,"
      ]
    },
    {
      "cell_type": "code",
      "execution_count": 48,
      "metadata": {
        "id": "wyr771UWBm0R",
        "colab": {
          "base_uri": "https://localhost:8080/"
        },
        "outputId": "fc2de66b-4574-4569-8a58-46781eac9b0f"
      },
      "outputs": [
        {
          "output_type": "execute_result",
          "data": {
            "text/plain": [
              "('David Hilton', 1995)"
            ]
          },
          "metadata": {},
          "execution_count": 48
        }
      ],
      "source": [
        "year_born =  ('David Hilton', 1995)\n",
        "year_born"
      ]
    },
    {
      "cell_type": "markdown",
      "metadata": {
        "id": "jS2uoyGvBm0S"
      },
      "source": [
        "To define a tuple, we use a list of values separated by comma.\n",
        "Although it is not necessary, it is common to enclose tuples in parentheses.\n",
        "\n",
        "Most list operators also work on tuples.\n",
        "The bracket operator indexes an item of tuples, and the slice operator works in similar way.\n",
        "\n",
        "Here is how to define a tuple:"
      ]
    },
    {
      "cell_type": "code",
      "execution_count": 49,
      "metadata": {
        "id": "sSoZ9rIGBm0S",
        "colab": {
          "base_uri": "https://localhost:8080/"
        },
        "outputId": "d93bcb23-2127-48f7-870e-e8ae72a74767"
      },
      "outputs": [
        {
          "output_type": "execute_result",
          "data": {
            "text/plain": [
              "()"
            ]
          },
          "metadata": {},
          "execution_count": 49
        }
      ],
      "source": [
        "t  = ( ) # Empty tuple\n",
        "t"
      ]
    },
    {
      "cell_type": "code",
      "execution_count": 50,
      "metadata": {
        "id": "YFukci9YBm0T",
        "colab": {
          "base_uri": "https://localhost:8080/"
        },
        "outputId": "bee29f8c-ba55-483c-c6aa-71a481256a09"
      },
      "outputs": [
        {
          "output_type": "execute_result",
          "data": {
            "text/plain": [
              "int"
            ]
          },
          "metadata": {},
          "execution_count": 50
        }
      ],
      "source": [
        "t = (1)\n",
        "type(t)  # Its type is int, since no comma is following"
      ]
    },
    {
      "cell_type": "code",
      "execution_count": 51,
      "metadata": {
        "id": "DCYLnFmxBm0U",
        "colab": {
          "base_uri": "https://localhost:8080/"
        },
        "outputId": "7f398c35-38a4-4066-a00c-aebe9caacee0"
      },
      "outputs": [
        {
          "output_type": "execute_result",
          "data": {
            "text/plain": [
              "tuple"
            ]
          },
          "metadata": {},
          "execution_count": 51
        }
      ],
      "source": [
        "t = (1,)  # One item tuple; the item needs to be followed by a comma\n",
        "type(t)"
      ]
    },
    {
      "cell_type": "markdown",
      "metadata": {
        "id": "JL76QtuYBm0V"
      },
      "source": [
        "Here is how to access elements of a tuple:"
      ]
    },
    {
      "cell_type": "code",
      "execution_count": 52,
      "metadata": {
        "id": "Tz1NCxjyBm0W"
      },
      "outputs": [],
      "source": [
        "t = ('a', 'b', 'c', 'd')"
      ]
    },
    {
      "cell_type": "code",
      "execution_count": 53,
      "metadata": {
        "id": "2iTzh6wwBm0Y",
        "colab": {
          "base_uri": "https://localhost:8080/",
          "height": 36
        },
        "outputId": "9f795d7a-f614-400b-ecd3-5e86a11933e1"
      },
      "outputs": [
        {
          "output_type": "execute_result",
          "data": {
            "text/plain": [
              "'a'"
            ],
            "application/vnd.google.colaboratory.intrinsic+json": {
              "type": "string"
            }
          },
          "metadata": {},
          "execution_count": 53
        }
      ],
      "source": [
        "t[0]"
      ]
    },
    {
      "cell_type": "code",
      "execution_count": 54,
      "metadata": {
        "id": "PlIiJg52Bm0Z",
        "colab": {
          "base_uri": "https://localhost:8080/"
        },
        "outputId": "aca4f759-cc0e-495a-87e1-07b9ce86d5cd"
      },
      "outputs": [
        {
          "output_type": "execute_result",
          "data": {
            "text/plain": [
              "('b', 'c')"
            ]
          },
          "metadata": {},
          "execution_count": 54
        }
      ],
      "source": [
        "t[1:3]"
      ]
    },
    {
      "cell_type": "markdown",
      "metadata": {
        "id": "35hOHu21Bm0a"
      },
      "source": [
        "But if you try to modify the elements of the tuple, you get an error."
      ]
    },
    {
      "cell_type": "code",
      "execution_count": 55,
      "metadata": {
        "id": "_r_paxZnBm0b",
        "colab": {
          "base_uri": "https://localhost:8080/",
          "height": 166
        },
        "outputId": "3b71cc32-bc0f-4a44-ab3c-752c5dccb29b"
      },
      "outputs": [
        {
          "output_type": "error",
          "ename": "TypeError",
          "evalue": "'tuple' object does not support item assignment",
          "traceback": [
            "\u001b[0;31m---------------------------------------------------------------------------\u001b[0m",
            "\u001b[0;31mTypeError\u001b[0m                                 Traceback (most recent call last)",
            "\u001b[0;32m/tmp/ipython-input-3817614828.py\u001b[0m in \u001b[0;36m<cell line: 0>\u001b[0;34m()\u001b[0m\n\u001b[1;32m      1\u001b[0m \u001b[0mt\u001b[0m \u001b[0;34m=\u001b[0m \u001b[0;34m(\u001b[0m\u001b[0;34m'a'\u001b[0m\u001b[0;34m,\u001b[0m \u001b[0;34m'b'\u001b[0m\u001b[0;34m,\u001b[0m \u001b[0;34m'c'\u001b[0m\u001b[0;34m,\u001b[0m \u001b[0;34m'd'\u001b[0m\u001b[0;34m)\u001b[0m\u001b[0;34m\u001b[0m\u001b[0;34m\u001b[0m\u001b[0m\n\u001b[0;32m----> 2\u001b[0;31m \u001b[0mt\u001b[0m\u001b[0;34m[\u001b[0m\u001b[0;36m1\u001b[0m\u001b[0;34m]\u001b[0m \u001b[0;34m=\u001b[0m \u001b[0;34m'B'\u001b[0m\u001b[0;34m\u001b[0m\u001b[0;34m\u001b[0m\u001b[0m\n\u001b[0m",
            "\u001b[0;31mTypeError\u001b[0m: 'tuple' object does not support item assignment"
          ]
        }
      ],
      "source": [
        "t = ('a', 'b', 'c', 'd')\n",
        "t[1] = 'B'"
      ]
    },
    {
      "cell_type": "markdown",
      "metadata": {
        "id": "Posmxo-aBm0c"
      },
      "source": [
        "### Tuple assignment\n",
        "\n",
        "Tuple assignment allows a tuple of variables on the left of an assignment to be assigned values from  a tuple on the right of the assignment.\n",
        "(We already saw this type of statements in the previous prac)\n",
        "\n",
        "For example,\n"
      ]
    },
    {
      "cell_type": "code",
      "execution_count": 56,
      "metadata": {
        "id": "ChvTjx6qBm0d"
      },
      "outputs": [],
      "source": [
        "t = ('David', '0233', 78)\n",
        "(name, id, score) = t"
      ]
    },
    {
      "cell_type": "code",
      "execution_count": 57,
      "metadata": {
        "id": "-WDeVp8MBm0e",
        "colab": {
          "base_uri": "https://localhost:8080/",
          "height": 36
        },
        "outputId": "f0a15407-021f-4c74-dec6-5521a78e252f"
      },
      "outputs": [
        {
          "output_type": "execute_result",
          "data": {
            "text/plain": [
              "'David'"
            ],
            "application/vnd.google.colaboratory.intrinsic+json": {
              "type": "string"
            }
          },
          "metadata": {},
          "execution_count": 57
        }
      ],
      "source": [
        "name"
      ]
    },
    {
      "cell_type": "code",
      "execution_count": 58,
      "metadata": {
        "id": "L4Ey2gDYBm0g",
        "colab": {
          "base_uri": "https://localhost:8080/",
          "height": 36
        },
        "outputId": "3ddfab05-14d4-460f-ea1a-6c1b747a7f07"
      },
      "outputs": [
        {
          "output_type": "execute_result",
          "data": {
            "text/plain": [
              "'0233'"
            ],
            "application/vnd.google.colaboratory.intrinsic+json": {
              "type": "string"
            }
          },
          "metadata": {},
          "execution_count": 58
        }
      ],
      "source": [
        "id"
      ]
    },
    {
      "cell_type": "code",
      "execution_count": 59,
      "metadata": {
        "id": "v6i5qFp7Bm0h",
        "colab": {
          "base_uri": "https://localhost:8080/"
        },
        "outputId": "2f493d1d-627a-49fc-bb58-3d968657cb84"
      },
      "outputs": [
        {
          "output_type": "execute_result",
          "data": {
            "text/plain": [
              "78"
            ]
          },
          "metadata": {},
          "execution_count": 59
        }
      ],
      "source": [
        "score"
      ]
    },
    {
      "cell_type": "markdown",
      "metadata": {
        "id": "aYAZYDZ3Bm0i"
      },
      "source": [
        "Naturally, the number of variables on the left and the number of values on the right have to be the same.Otherwise, you will have a system error."
      ]
    },
    {
      "cell_type": "code",
      "execution_count": 60,
      "metadata": {
        "id": "CZWKRkeZBm0j",
        "colab": {
          "base_uri": "https://localhost:8080/",
          "height": 148
        },
        "outputId": "e1d3df14-633b-4340-cdbf-ef3db4b01de4"
      },
      "outputs": [
        {
          "output_type": "error",
          "ename": "ValueError",
          "evalue": "not enough values to unpack (expected 4, got 3)",
          "traceback": [
            "\u001b[0;31m---------------------------------------------------------------------------\u001b[0m",
            "\u001b[0;31mValueError\u001b[0m                                Traceback (most recent call last)",
            "\u001b[0;32m/tmp/ipython-input-2853210643.py\u001b[0m in \u001b[0;36m<cell line: 0>\u001b[0;34m()\u001b[0m\n\u001b[0;32m----> 1\u001b[0;31m \u001b[0;34m(\u001b[0m\u001b[0ma\u001b[0m\u001b[0;34m,\u001b[0m \u001b[0mb\u001b[0m\u001b[0;34m,\u001b[0m \u001b[0mc\u001b[0m\u001b[0;34m,\u001b[0m \u001b[0md\u001b[0m\u001b[0;34m)\u001b[0m \u001b[0;34m=\u001b[0m \u001b[0;34m(\u001b[0m\u001b[0;36m1\u001b[0m\u001b[0;34m,\u001b[0m \u001b[0;36m2\u001b[0m\u001b[0;34m,\u001b[0m \u001b[0;36m3\u001b[0m\u001b[0;34m)\u001b[0m\u001b[0;34m\u001b[0m\u001b[0;34m\u001b[0m\u001b[0m\n\u001b[0m",
            "\u001b[0;31mValueError\u001b[0m: not enough values to unpack (expected 4, got 3)"
          ]
        }
      ],
      "source": [
        "(a, b, c, d) = (1, 2, 3)\n"
      ]
    },
    {
      "cell_type": "markdown",
      "metadata": {
        "id": "svAgKRIMBm0l"
      },
      "source": [
        "### Lists and tuples\n",
        "\n",
        "It is common to have a list of tuples. For loop can be used to traverse the data.  For example,"
      ]
    },
    {
      "cell_type": "code",
      "execution_count": 62,
      "metadata": {
        "id": "erQ7rITYBm0l",
        "colab": {
          "base_uri": "https://localhost:8080/"
        },
        "outputId": "8b9b93ee-669a-4b4a-f509-3ad414f86f0a"
      },
      "outputs": [
        {
          "output_type": "stream",
          "name": "stdout",
          "text": [
            "David 90\n",
            "John 88\n",
            "James 70\n"
          ]
        }
      ],
      "source": [
        "t = [('David', 90), ('John', 88), ('James', 70)]\n",
        "\n",
        "for (name, score) in t:\n",
        "       print(name, score)"
      ]
    },
    {
      "cell_type": "markdown",
      "metadata": {
        "id": "0N9Ozh__Bm0m"
      },
      "source": [
        "<a id = \"cell_dict\"></a>"
      ]
    },
    {
      "cell_type": "markdown",
      "metadata": {
        "id": "P7Te1xa1Bm0o"
      },
      "source": [
        "### 3 Dictionary\n",
        "\n",
        "A **dictionary** is like an address-book where you can find the address or contact details of a person by knowing only his/her name. The way of achieving this is to associate **keys**(names) with **values**(details). Note that the key in a dictionary must be unique. Otherwise we are not able to locate correct information through the key.\n",
        "\n",
        "Also worth noted is that we can only use immutable objects(strings, tuples) for the keys, but we can use either immutable or mutable objects for the values of the dictionary. This means  we can use either a string, a tuple or a list  for dictionary values.\n",
        "\n",
        "The following example defines a dictionary:"
      ]
    },
    {
      "cell_type": "code",
      "execution_count": 63,
      "metadata": {
        "id": "uclLe92SBm0o",
        "colab": {
          "base_uri": "https://localhost:8080/"
        },
        "outputId": "693b5f0e-96c6-46fb-f123-492c72b80a3e"
      },
      "outputs": [
        {
          "output_type": "execute_result",
          "data": {
            "text/plain": [
              "{'David': 70, 'John': 60, 'Mike': 85, 'Anne': 92}"
            ]
          },
          "metadata": {},
          "execution_count": 63
        }
      ],
      "source": [
        "dict = {'David': 70, 'John': 60, 'Mike': 85}\n",
        "dict['David']\n",
        "dict['Anne'] = 92  # add an new item in the dictionary\n",
        "dict"
      ]
    },
    {
      "cell_type": "markdown",
      "metadata": {
        "id": "oLay_eiFBm0q"
      },
      "source": [
        "**Traverse a dictionary**\n",
        "\n",
        "The key-value pairs in a dictionary are **not** ordered in any manner. The following example uses **for** loop to traversal a dictionary. Notice that the keys are in no particular order."
      ]
    },
    {
      "cell_type": "code",
      "execution_count": 64,
      "metadata": {
        "id": "QKfMs36lBm0t",
        "colab": {
          "base_uri": "https://localhost:8080/"
        },
        "outputId": "20e176c3-cd72-4254-82b6-7bc3a92fb728"
      },
      "outputs": [
        {
          "output_type": "stream",
          "name": "stdout",
          "text": [
            "David 70\n",
            "John 60\n",
            "Amy 85\n"
          ]
        }
      ],
      "source": [
        "dict = {'David': 70, 'John': 60, 'Amy': 85}\n",
        "\n",
        "for key in dict:\n",
        "    print(key, dict[key])"
      ]
    },
    {
      "cell_type": "markdown",
      "metadata": {
        "id": "vLKSyg5OBm0u"
      },
      "source": [
        "However, we can sort the keys of dictionary before using it if necessary. The following example sorts the keys and stored the result in a list **sortedKey**. The **for** loop then iterates through list **sortedKey**. The items in the dictionary can then be accessed via the names in alphabetical order. Note that dictionary's **keys()** method is used to return a list of all the available keys in the dictionary."
      ]
    },
    {
      "cell_type": "code",
      "execution_count": 65,
      "metadata": {
        "id": "hLZi1CgdBm0u",
        "colab": {
          "base_uri": "https://localhost:8080/"
        },
        "outputId": "54a3df44-3232-441b-9d80-402cc168deea"
      },
      "outputs": [
        {
          "output_type": "stream",
          "name": "stdout",
          "text": [
            "Amy 85\n",
            "David 70\n",
            "John 60\n"
          ]
        }
      ],
      "source": [
        "dict = {'David': 70, 'John': 60, 'Amy': 85}\n",
        "sortedKeys = sorted(dict.keys())\n",
        "\n",
        "for key in sortedKeys:\n",
        "    print(key, dict[key])\n"
      ]
    }
  ],
  "metadata": {
    "colab": {
      "collapsed_sections": [
        "kBsd3dhuBm0Q",
        "Posmxo-aBm0c",
        "svAgKRIMBm0l",
        "P7Te1xa1Bm0o"
      ],
      "provenance": [],
      "toc_visible": true
    },
    "kernelspec": {
      "display_name": "Python 3",
      "language": "python",
      "name": "python3"
    },
    "language_info": {
      "codemirror_mode": {
        "name": "ipython",
        "version": 3
      },
      "file_extension": ".py",
      "mimetype": "text/x-python",
      "name": "python",
      "nbconvert_exporter": "python",
      "pygments_lexer": "ipython3",
      "version": "3.6.4"
    }
  },
  "nbformat": 4,
  "nbformat_minor": 0
}